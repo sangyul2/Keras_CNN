{
 "cells": [
  {
   "cell_type": "code",
   "execution_count": 8,
   "metadata": {
    "collapsed": true
   },
   "outputs": [],
   "source": [
    "import os\n",
    "import shutil\n",
    "from glob import glob\n",
    "\n",
    "from tqdm import tqdm_notebook"
   ]
  },
  {
   "cell_type": "code",
   "execution_count": 9,
   "metadata": {
    "collapsed": true
   },
   "outputs": [],
   "source": [
    "#  '101_open', 757,\n",
    "#  '110_short', 817,\n",
    "#  '111_미에칭', 676,\n",
    "#  '113_결손', 592,\n",
    "#  '114_돌기', 697,\n",
    "#  '120_편심', 679,\n",
    "#  '123_H.불량', 504,\n",
    "#  '138_DF잔사_얼룩', 399,\n",
    "#  '143_VD', 357,\n",
    "#  '151_적층이물', 762,\n",
    "#  '152_흰이물', 624,\n",
    "#  '153_검은이물', 87,\n",
    "#  '154_Pen흔적', 456,\n",
    "#  '155_기판산화', 696,\n",
    "#  '157_실오라기이물', 722,\n",
    "#  '158_가검이물', 428,\n",
    "#  '159_돌기specIN', 599,\n",
    "#  '201_양품', 894,\n",
    "#  '202_잔동', 560,\n",
    "#  '209_H.잔상', 477,\n",
    "#  '213_PT갈라짐', 427,\n",
    "#  '214_PT상처', 503,"
   ]
  },
  {
   "cell_type": "code",
   "execution_count": 10,
   "metadata": {
    "collapsed": false
   },
   "outputs": [
    {
     "name": "stdout",
     "output_type": "stream",
     "text": [
      "\n"
     ]
    }
   ],
   "source": [
    "# Bin 별 Test / Train으로 나누어 복사하기\n",
    "\n",
    "par_folder = 'Dataset/22_AOI_HDI_dim1_Gvis'\n",
    "cls_fold = '_Bin2'\n",
    "\n",
    "for cls_folder in tqdm_notebook(os.listdir(par_folder)):\n",
    "    dirname = os.path.join(par_folder, cls_folder)\n",
    "    data_paths = glob(os.path.join(dirname, '*.jpg'))\n",
    "    for i, path in enumerate(data_paths):\n",
    "        if i < 100:\n",
    "            if cls_folder[0] == '2':\n",
    "                new_dir = os.path.join(par_folder+cls_fold+\"/Test/Good\")\n",
    "            else:\n",
    "                new_dir = os.path.join(par_folder+cls_fold+\"/Test/Bad\")\n",
    "        else:\n",
    "            if cls_folder[0] == '2':\n",
    "                new_dir = os.path.join(par_folder+cls_fold+\"/Train/Good\")\n",
    "            else:\n",
    "                new_dir = os.path.join(par_folder+cls_fold+\"/Train/Bad\")\n",
    "        \n",
    "        if not os.path.exists(new_dir):\n",
    "            os.makedirs(new_dir)\n",
    "        \n",
    "        filename = cls_folder+'-'+os.path.basename(path)\n",
    "        new_path = os.path.join(new_dir, filename)\n",
    "        \n",
    "        if not os.path.exists(new_path):\n",
    "            shutil.copy2(path, new_path)"
   ]
  },
  {
   "cell_type": "code",
   "execution_count": 42,
   "metadata": {
    "collapsed": false
   },
   "outputs": [
    {
     "name": "stdout",
     "output_type": "stream",
     "text": [
      "\n"
     ]
    }
   ],
   "source": [
    "# Class 별 Test / Train으로 나누어 복사하기\n",
    "\n",
    "par_folder = 'Dataset/22_AOI_HDI_dim1'\n",
    "fold_tail = '_Class2'\n",
    "\n",
    "for cls_path in tqdm_notebook(os.listdir(par_folder)):\n",
    "    dirname = os.path.join(par_folder, cls_path)\n",
    "    data_paths = glob(os.path.join(dirname, '*.jpg'))\n",
    "    \n",
    "    for i, path in enumerate(data_paths):\n",
    "        if i < 100:\n",
    "            new_dir = os.path.join(par_folder+fold_tail,\"test\", cls_path)\n",
    "        elif i >= 100 and i < 400:\n",
    "            new_dir = os.path.join(par_folder+fold_tail,\"train\", cls_path)\n",
    "        else:\n",
    "            new_dir = os.path.join(par_folder+fold_tail,\"other\", cls_path)\n",
    "            \n",
    "        if not os.path.exists(new_dir):\n",
    "            os.makedirs(new_dir)\n",
    "        \n",
    "        filename = os.path.basename(path)\n",
    "        new_path = os.path.join(new_dir, filename)\n",
    "        \n",
    "        if not os.path.exists(new_path):\n",
    "            shutil.copy2(path, new_path)"
   ]
  },
  {
   "cell_type": "code",
   "execution_count": 7,
   "metadata": {
    "collapsed": false
   },
   "outputs": [
    {
     "data": {
      "text/plain": [
       "'Dataset/KSEM_HDI_AOI_Class\\\\train\\\\UNKNOWN'"
      ]
     },
     "execution_count": 7,
     "metadata": {},
     "output_type": "execute_result"
    }
   ],
   "source": [
    "os.path.join(par_folder+cls_fold,\"test\", cls_folder)"
   ]
  },
  {
   "cell_type": "code",
   "execution_count": 5,
   "metadata": {
    "collapsed": false
   },
   "outputs": [
    {
     "data": {
      "text/plain": [
       "'Dataset/KSEM_HDI_AOI_Class/train/UNKNOWN\\\\009C8964-C660-4078-98A6-018D5D957ABF$TRUE$FALSE$FALSE$26.991$545.815$UNKNOWN$NODE_PCB_EPOXY_THICK$SPACE_FOREIGN_OBJ$CAM$TRAINING.tif'"
      ]
     },
     "execution_count": 5,
     "metadata": {},
     "output_type": "execute_result"
    }
   ],
   "source": [
    "data_paths1 = glob('Dataset/KSEM_HDI_AOI_Class/train/UNKNOWN/*.tif')\n",
    "data_paths1[0]"
   ]
  },
  {
   "cell_type": "code",
   "execution_count": 6,
   "metadata": {
    "collapsed": false
   },
   "outputs": [
    {
     "data": {
      "text/plain": [
       "10398"
      ]
     },
     "execution_count": 6,
     "metadata": {},
     "output_type": "execute_result"
    }
   ],
   "source": [
    "len(data_paths1)"
   ]
  },
  {
   "cell_type": "code",
   "execution_count": 40,
   "metadata": {
    "collapsed": false
   },
   "outputs": [
    {
     "name": "stdout",
     "output_type": "stream",
     "text": [
      "\n"
     ]
    }
   ],
   "source": [
    "# 파일 절반 이동하기\n",
    "for i, fname in tqdm_notebook(enumerate(data_paths1)):\n",
    "    if i % 2:\n",
    "        new_path2 = fname.replace('Dataset/KSEM_HDI_AOI_Class/train/UNKNOWN','Dataset/KSEM_HDI_AOI_Class/train/NON_DEFECT')\n",
    "        os.rename(fname,new_path2)"
   ]
  },
  {
   "cell_type": "code",
   "execution_count": 15,
   "metadata": {
    "collapsed": false
   },
   "outputs": [
    {
     "data": {
      "text/plain": [
       "(24249,\n",
       " 'Dataset/KSEM_HDI_AOI_Class3/train/DEFECT\\\\067A19B7-55D8-429E-B481-30CBE2EE6A94$TRUE$TRUE$FALSE$45.250$678.550$SHORT$NODE_PCB_COPPER_THIN$OPEN$DEFECT$TRAINING.tif')"
      ]
     },
     "execution_count": 15,
     "metadata": {},
     "output_type": "execute_result"
    }
   ],
   "source": [
    "# 파일 절반 삭제하기 - 1 경로체크\n",
    "\n",
    "path = 'Dataset/KSEM_HDI_AOI_Class3/train/DEFECT'\n",
    "data_paths = glob(path+'/*.tif')\n",
    "len(data_paths), data_paths[0]"
   ]
  },
  {
   "cell_type": "code",
   "execution_count": 17,
   "metadata": {
    "collapsed": false
   },
   "outputs": [
    {
     "name": "stdout",
     "output_type": "stream",
     "text": [
      "\n"
     ]
    }
   ],
   "source": [
    "# 파일 절반 삭제하기 - 2 실행\n",
    "for i, fname in tqdm_notebook(enumerate(data_paths)):\n",
    "    if i % 2:\n",
    "        os.remove(fname)"
   ]
  },
  {
   "cell_type": "code",
   "execution_count": 7,
   "metadata": {
    "collapsed": false
   },
   "outputs": [
    {
     "name": "stdout",
     "output_type": "stream",
     "text": [
      "\n"
     ]
    }
   ],
   "source": [
    "for i, fname in tqdm_notebook(enumerate(data_paths1)):\n",
    "    new_path2 = fname.replace('Dataset/KSEM_HDI_AOI_Class/train/UNKNOWN','Dataset/KSEM_HDI_AOI_Class/train/NON_DEFECT')\n",
    "    os.rename(fname,new_path2)"
   ]
  },
  {
   "cell_type": "code",
   "execution_count": null,
   "metadata": {
    "collapsed": true
   },
   "outputs": [],
   "source": []
  },
  {
   "cell_type": "code",
   "execution_count": 46,
   "metadata": {
    "collapsed": false
   },
   "outputs": [
    {
     "data": {
      "text/plain": [
       "'Dataset/KSEM_HDI_AOI_Class2/train/NON_DEFECT\\\\0EE62672-9B46-4EF7-9E38-6EE22943598E$TRUE$FALSE$FALSE$144.523$23.710$NON_DEFECT$NODE_PCB_COPPER_THICK$NICK$DEFECT$TRAINING.tif'"
      ]
     },
     "execution_count": 46,
     "metadata": {},
     "output_type": "execute_result"
    }
   ],
   "source": [
    "data_paths2 = glob('Dataset/KSEM_HDI_AOI_Class2/train/NON_DEFECT/*.tif')\n",
    "data_paths2[0]"
   ]
  },
  {
   "cell_type": "code",
   "execution_count": 47,
   "metadata": {
    "collapsed": false
   },
   "outputs": [
    {
     "data": {
      "text/plain": [
       "41581"
      ]
     },
     "execution_count": 47,
     "metadata": {},
     "output_type": "execute_result"
    }
   ],
   "source": [
    "len(data_paths2)"
   ]
  },
  {
   "cell_type": "code",
   "execution_count": 43,
   "metadata": {
    "collapsed": false
   },
   "outputs": [
    {
     "data": {
      "text/plain": [
       "('SHORT', 'CAM')"
      ]
     },
     "execution_count": 43,
     "metadata": {},
     "output_type": "execute_result"
    }
   ],
   "source": [
    "data_paths2[82].split('$')[6], data_paths2[1500].split('$')[9]"
   ]
  },
  {
   "cell_type": "code",
   "execution_count": null,
   "metadata": {
    "collapsed": true
   },
   "outputs": [],
   "source": []
  },
  {
   "cell_type": "code",
   "execution_count": 11,
   "metadata": {
    "collapsed": false
   },
   "outputs": [
    {
     "name": "stdout",
     "output_type": "stream",
     "text": [
      "\n"
     ]
    }
   ],
   "source": [
    "# 조건부로 파일 이동하기 1\n",
    "\n",
    "FROM_PATH = 'Dataset/KSEM_HDI_AOI_Class/train/NON_DEFECT'\n",
    "TO_PATH = 'Dataset/KSEM_HDI_AOI_Class/test/NON_DEFECT'\n",
    "\n",
    "for i, fname in tqdm_notebook(enumerate(data_paths2)):\n",
    "    if data_paths2[i].split('$')[9] == 'DEFECT' and count < 170:\n",
    "        new_path = fname.replace(FROM_PATH,TO_PATH)\n",
    "        os.rename(fname,new_path)\n",
    "        "
   ]
  },
  {
   "cell_type": "code",
   "execution_count": 39,
   "metadata": {
    "collapsed": false
   },
   "outputs": [
    {
     "name": "stdout",
     "output_type": "stream",
     "text": [
      "\n"
     ]
    }
   ],
   "source": [
    "# 조건부로 파일 이동하기 2\n",
    "\n",
    "FROM_PATH = 'Dataset/KSEM_HDI_AOI_Class/train/UNKNOWN'\n",
    "TO_PATH = 'Dataset/KSEM_HDI_AOI_Class/test/UNKNOWN'\n",
    "\n",
    "count = 0\n",
    "\n",
    "for i, fname in tqdm_notebook(enumerate(data_paths2)):\n",
    "    if data_paths2[i].split('$')[9] == 'DEFECT' and count < 385:\n",
    "        new_path = fname.replace(FROM_PATH,TO_PATH)\n",
    "        os.rename(fname,new_path)\n",
    "        \n",
    "        if data_paths2[i].split('$')[9] == 'DEFECT':\n",
    "            count += 1\n",
    "        else:\n",
    "            pass"
   ]
  },
  {
   "cell_type": "code",
   "execution_count": null,
   "metadata": {
    "collapsed": true
   },
   "outputs": [],
   "source": []
  },
  {
   "cell_type": "code",
   "execution_count": 5,
   "metadata": {
    "collapsed": false
   },
   "outputs": [
    {
     "data": {
      "text/plain": [
       "'Dataset/KSEM_HDI_AOI_origin\\\\NON_DEFECT\\\\0019441B-04E7-44C8-A4D9-15DF6ED2838D$TRUE$FALSE$NA$0$0$NON_DEFECT$NA$NA$CAM$TRAINING.tif'"
      ]
     },
     "execution_count": 5,
     "metadata": {},
     "output_type": "execute_result"
    }
   ],
   "source": [
    "data_paths = glob('Dataset/KSEM_HDI_AOI_origin/*/*.tif')\n",
    "data_paths[0]"
   ]
  },
  {
   "cell_type": "code",
   "execution_count": 43,
   "metadata": {
    "collapsed": false
   },
   "outputs": [
    {
     "data": {
      "text/plain": [
       "['11_AOI_FCB_dim3',\n",
       " '12_AOI_HDI_dim3',\n",
       " '21_AOI_FCB_dim1',\n",
       " '22_AOI_HDI_dim1',\n",
       " '22_AOI_HDI_dim1_Class1',\n",
       " '31_AOI_CAD_FCB_dim3',\n",
       " '32_AOI_CAD_HDI_dim3',\n",
       " '33_AOI_KSEM_HDI_gtc',\n",
       " 'KSEM_HDI_AOI_origin',\n",
       " 'KSEM_HDI_AOI_resized',\n",
       " 'KSEM_Training_Set.rar']"
      ]
     },
     "execution_count": 43,
     "metadata": {},
     "output_type": "execute_result"
    }
   ],
   "source": [
    "# 폴터 통채로 복사하기 (강제복사)\n",
    "os.listdir('Dataset')"
   ]
  },
  {
   "cell_type": "code",
   "execution_count": 80,
   "metadata": {
    "collapsed": false
   },
   "outputs": [
    {
     "data": {
      "text/plain": [
       "'Dataset/22_AOI_HDI_dim1_Class2'"
      ]
     },
     "execution_count": 80,
     "metadata": {},
     "output_type": "execute_result"
    }
   ],
   "source": [
    "POR_path = 'Dataset/22_AOI_HDI_dim1_Class1'\n",
    "NEW_path = 'Dataset/22_AOI_HDI_dim1_Class2'\n",
    "\n",
    "shutil.copytree(POR_path, NEW_path)"
   ]
  },
  {
   "cell_type": "code",
   "execution_count": 21,
   "metadata": {
    "collapsed": false
   },
   "outputs": [
    {
     "data": {
      "text/plain": [
       "(70242,\n",
       " 'Dataset/KSEM_HDI_AOI_origin\\\\NON_DEFECT\\\\0019441B-04E7-44C8-A4D9-15DF6ED2838D$TRUE$FALSE$NA$0$0$NON_DEFECT$NA$NA$CAM$TRAINING.tif')"
      ]
     },
     "execution_count": 21,
     "metadata": {},
     "output_type": "execute_result"
    }
   ],
   "source": []
  },
  {
   "cell_type": "code",
   "execution_count": 20,
   "metadata": {
    "collapsed": false
   },
   "outputs": [
    {
     "data": {
      "text/plain": [
       "(35121,\n",
       " 'Dataset/KSEM_HDI_AOI_noCAD\\\\NON_DEFECT\\\\0019441B-04E7-44C8-A4D9-15DF6ED2838D$TRUE$FALSE$NA$0$0$NON_DEFECT$NA$NA$DEFECT$TRAINING.tif')"
      ]
     },
     "execution_count": 20,
     "metadata": {},
     "output_type": "execute_result"
    }
   ],
   "source": [
    "# 조건부로 파일 삭제하기 - 경로\n",
    "data_paths = glob('Dataset/KSEM_HDI_AOI_noCAD/*/*.tif')\n",
    "len(data_paths),data_paths[0]"
   ]
  },
  {
   "cell_type": "code",
   "execution_count": 19,
   "metadata": {
    "collapsed": false
   },
   "outputs": [
    {
     "name": "stdout",
     "output_type": "stream",
     "text": [
      "\n"
     ]
    }
   ],
   "source": [
    "# 조건부로 파일 삭제하기 - 실행\n",
    "\n",
    "for i, fname in tqdm_notebook(enumerate(data_paths)):\n",
    "    if data_paths[i].split('$')[9] == 'CAM':\n",
    "        os.remove(fname)\n"
   ]
  },
  {
   "cell_type": "code",
   "execution_count": 32,
   "metadata": {
    "collapsed": false
   },
   "outputs": [
    {
     "data": {
      "text/plain": [
       "(14945,\n",
       " 'Dataset/KSEM_HDI_AOI_noCAD/SHORT\\\\00019D25-3C1C-4A03-ACA8-095F19DE8803$TRUE$FALSE$FALSE$378.528$70.392$SHORT$NODE_PCB_EPOXY_THIN$SPACE_FOREIGN_OBJ$DEFECT$TRAINING.tif')"
      ]
     },
     "execution_count": 32,
     "metadata": {},
     "output_type": "execute_result"
    }
   ],
   "source": [
    "# 그냥 파일 이동하기 - 1 경로확인\n",
    "\n",
    "FROM_PATH = 'Dataset/KSEM_HDI_AOI_noCAD/SHORT'\n",
    "TO_PATH   = 'Dataset/KSEM_HDI_AOI_noCAD/Before'\n",
    "\n",
    "data_paths = glob(FROM_PATH+'/*.tif')\n",
    "len(data_paths), data_paths[0]"
   ]
  },
  {
   "cell_type": "code",
   "execution_count": 33,
   "metadata": {
    "collapsed": false
   },
   "outputs": [
    {
     "name": "stdout",
     "output_type": "stream",
     "text": [
      "\n"
     ]
    }
   ],
   "source": [
    "# 그냥 파일 다 이동하기 - 2 실행\n",
    "\n",
    "for i, fname in tqdm_notebook(enumerate(data_paths)):\n",
    "    new_path = fname.replace(FROM_PATH,TO_PATH)\n",
    "    os.rename(fname,new_path)"
   ]
  },
  {
   "cell_type": "code",
   "execution_count": 54,
   "metadata": {
    "collapsed": false
   },
   "outputs": [],
   "source": [
    "# 폴더 지울 때 사용\n",
    "# dir_path = par_folder\n",
    "# dir_list = os.listdir(dir_path)\n",
    "\n",
    "# for path in dir_list:\n",
    "#     if path[0] == '1' or path[0] == '2':\n",
    "#         del_path = os.path.join(par_folder, path)\n",
    "#         os.rmdir(del_path)"
   ]
  },
  {
   "cell_type": "code",
   "execution_count": null,
   "metadata": {
    "collapsed": true
   },
   "outputs": [],
   "source": []
  },
  {
   "cell_type": "code",
   "execution_count": 78,
   "metadata": {
    "collapsed": false
   },
   "outputs": [
    {
     "data": {
      "text/plain": [
       "(35121,\n",
       " 'Dataset/KSEM_HDI_AOI_origin2/Before\\\\00019D25-3C1C-4A03-ACA8-095F19DE8803$TRUE$FALSE$FALSE$378.528$70.392$SHORT$NODE_PCB_EPOXY_THIN$SPACE_FOREIGN_OBJ$DEFECT$TRAINING.tif')"
      ]
     },
     "execution_count": 78,
     "metadata": {},
     "output_type": "execute_result"
    }
   ],
   "source": [
    "# 파일 pixel 자르고 따로 저장하기 1 - 경로확인\n",
    "\n",
    "data_paths = glob('Dataset/KSEM_HDI_AOI_origin2/Before/*.tif')\n",
    "len(data_paths), data_paths[0]"
   ]
  },
  {
   "cell_type": "code",
   "execution_count": 79,
   "metadata": {
    "collapsed": false
   },
   "outputs": [
    {
     "name": "stdout",
     "output_type": "stream",
     "text": [
      "\n"
     ]
    }
   ],
   "source": [
    "# 파일 pixel 자르고 따로 저장하기 2 - 실행\n",
    "\n",
    "from PIL import Image\n",
    "import matplotlib.pyplot as plt\n",
    "import numpy as np\n",
    "\n",
    "for path in tqdm_notebook(data_paths):\n",
    "    image_pil = Image.open(path)\n",
    "    image_num = np.array(image_pil)\n",
    "    cropImage = image_pil.crop((0, 0, 100, 100))\n",
    "    \n",
    "    filename = os.path.basename(path)\n",
    "    filename2 = os.path.splitext(filename)[0]+'_resized.tif'\n",
    "    save_path = 'Dataset/KSEM_HDI_AOI_origin2/Before2'\n",
    "    save_img = os.path.join(save_path,filename2)\n",
    "    cropImage.save(save_img)"
   ]
  },
  {
   "cell_type": "code",
   "execution_count": 49,
   "metadata": {
    "collapsed": false
   },
   "outputs": [
    {
     "name": "stdout",
     "output_type": "stream",
     "text": [
      "size : (101, 101)\n"
     ]
    },
    {
     "data": {
      "image/png": "[encoded data removed]",
      "text/plain": [
       "<PIL.TiffImagePlugin.TiffImageFile image mode=P size=101x101 at 0x1FE053ED390>"
      ]
     },
     "execution_count": 49,
     "metadata": {},
     "output_type": "execute_result"
    }
   ],
   "source": [
    "# 구간별 실행\n",
    "\n",
    "from PIL import Image\n",
    "import matplotlib.pyplot as plt  # 새 창 안띄우고 그래프 실행\n",
    "import numpy as np\n",
    "\n",
    "path = data_paths[0]\n",
    "image_pil = Image.open(path)\n",
    "print('size :',image_pil.size)\n",
    "image_pil\n"
   ]
  },
  {
   "cell_type": "code",
   "execution_count": 54,
   "metadata": {
    "collapsed": false
   },
   "outputs": [
    {
     "data": {
      "text/plain": [
       "(101, 101)"
      ]
     },
     "execution_count": 54,
     "metadata": {},
     "output_type": "execute_result"
    }
   ],
   "source": [
    "image_num = np.array(image_pil)   # image 를 숫자로 변환\n",
    "image_num.shape"
   ]
  },
  {
   "cell_type": "code",
   "execution_count": 75,
   "metadata": {
    "collapsed": false
   },
   "outputs": [
    {
     "name": "stdout",
     "output_type": "stream",
     "text": [
      "crop size : (100, 100)\n"
     ]
    },
    {
     "data": {
      "image/png": "[encoded data removed]",
      "text/plain": [
       "<PIL.Image.Image image mode=P size=100x100 at 0x1FE05448C18>"
      ]
     },
     "execution_count": 75,
     "metadata": {},
     "output_type": "execute_result"
    }
   ],
   "source": [
    "cropImage = image_pil.crop((0, 0, 100, 100)) # image 자르기 및 확인\n",
    "print('crop size :',cropImage.size)\n",
    "cropImage"
   ]
  },
  {
   "cell_type": "code",
   "execution_count": 71,
   "metadata": {
    "collapsed": false
   },
   "outputs": [
    {
     "data": {
      "text/plain": [
       "'00019D25-3C1C-4A03-ACA8-095F19DE8803$TRUE$FALSE$FALSE$378.528$70.392$SHORT$NODE_PCB_EPOXY_THIN$SPACE_FOREIGN_OBJ$DEFECT$TRAINING_resized.tif'"
      ]
     },
     "execution_count": 71,
     "metadata": {},
     "output_type": "execute_result"
    }
   ],
   "source": [
    "# 파일 경로 설정 저장\n",
    "save_path = 'Dataset/KSEM_HDI_AOI_origin2/Before2'\n",
    "filename = os.path.basename(path)\n",
    "filename2 = os.path.splitext(filename)[0]+'_resized.tif'\n",
    "save_img = os.path.join(save_path,filename2)\n",
    "save_img\n",
    "cropImage.save(save_img)"
   ]
  },
  {
   "cell_type": "code",
   "execution_count": 77,
   "metadata": {
    "collapsed": true
   },
   "outputs": [],
   "source": [
    "cropImage.save(save_img) # 파일 저장"
   ]
  },
  {
   "cell_type": "code",
   "execution_count": null,
   "metadata": {
    "collapsed": true
   },
   "outputs": [],
   "source": []
  },
  {
   "cell_type": "code",
   "execution_count": 6,
   "metadata": {
    "collapsed": false
   },
   "outputs": [
    {
     "data": {
      "text/plain": [
       "(2361,\n",
       " 'Dataset/22_AOI_HDI_dim1_Gvis_Bin1/Train/Good\\\\201_양품-L9P_M8103004904_1_195_VRS0_AOI7_Defect.jpg')"
      ]
     },
     "execution_count": 6,
     "metadata": {},
     "output_type": "execute_result"
    }
   ],
   "source": [
    "# 이미지 불러서 90, 180, 270, 돌려서 뻥튀기 하고 저장하기 1 - 경로확인\n",
    "\n",
    "from PIL import Image\n",
    "import matplotlib.pyplot as plt  # 새 창 안띄우고 그래프 실행\n",
    "import numpy as np\n",
    "\n",
    "data_paths = glob('Dataset/22_AOI_HDI_dim1_Gvis_Bin1/Train/Good/*.jpg')\n",
    "len(data_paths), data_paths[0]\n"
   ]
  },
  {
   "cell_type": "code",
   "execution_count": 82,
   "metadata": {
    "collapsed": false
   },
   "outputs": [
    {
     "name": "stdout",
     "output_type": "stream",
     "text": [
      "\n"
     ]
    }
   ],
   "source": [
    "# 이미지 4배 뻥튀기 : 불러서 90, 180, 270, 돌려서 뻥튀기 하고 저장하기 2 - 돌리고 저장하기\n",
    "\n",
    "for path in tqdm_notebook(data_paths):\n",
    "    image_pil = Image.open(path)\n",
    "    \n",
    "    image90 = image_pil.rotate(90)\n",
    "    image180 = image_pil.rotate(180)\n",
    "    image270 = image_pil.rotate(-90)\n",
    "    \n",
    "    save_path = os.path.dirname(path)        \n",
    "    filename = os.path.basename(path)\n",
    "\n",
    "    filename90 = os.path.splitext(filename)[0]+'_90.jpg'\n",
    "    save_img90 = os.path.join(save_path,filename90)\n",
    "    image90.save(save_img90)\n",
    "    \n",
    "    filename180 = os.path.splitext(filename)[0]+'_180.jpg'\n",
    "    save_img180 = os.path.join(save_path,filename180)\n",
    "    image180.save(save_img180)\n",
    "    \n",
    "    filename270 = os.path.splitext(filename)[0]+'_270.jpg'\n",
    "    save_img270 = os.path.join(save_path,filename270)\n",
    "    image270.save(save_img270)"
   ]
  },
  {
   "cell_type": "code",
   "execution_count": 7,
   "metadata": {
    "collapsed": false
   },
   "outputs": [
    {
     "name": "stdout",
     "output_type": "stream",
     "text": [
      "\n"
     ]
    }
   ],
   "source": [
    "# 이미지 3배 뻥튀기 : 불러서 90, 270, 돌려서 뻥튀기 하고 저장하기 2 - 돌리고 저장하기\n",
    "\n",
    "for path in tqdm_notebook(data_paths):\n",
    "    image_pil = Image.open(path)\n",
    "    \n",
    "    image90 = image_pil.rotate(90)\n",
    "#    image180 = image_pil.rotate(180)\n",
    "    image270 = image_pil.rotate(-90)\n",
    "    \n",
    "    save_path = os.path.dirname(path)        \n",
    "    filename = os.path.basename(path)\n",
    "\n",
    "    filename90 = os.path.splitext(filename)[0]+'_90.jpg'\n",
    "    save_img90 = os.path.join(save_path,filename90)\n",
    "    image90.save(save_img90)\n",
    "    \n",
    "#     filename180 = os.path.splitext(filename)[0]+'_180.jpg'\n",
    "#     save_img180 = os.path.join(save_path,filename180)\n",
    "#     image180.save(save_img180)\n",
    "    \n",
    "    filename270 = os.path.splitext(filename)[0]+'_270.jpg'\n",
    "    save_img270 = os.path.join(save_path,filename270)\n",
    "    image270.save(save_img270)"
   ]
  },
  {
   "cell_type": "code",
   "execution_count": null,
   "metadata": {
    "collapsed": true
   },
   "outputs": [],
   "source": []
  }
 ],
 "metadata": {
  "kernelspec": {
   "display_name": "Python 3",
   "language": "python",
   "name": "python3"
  },
  "language_info": {
   "codemirror_mode": {
    "name": "ipython",
    "version": 3
   },
   "file_extension": ".py",
   "mimetype": "text/x-python",
   "name": "python",
   "nbconvert_exporter": "python",
   "pygments_lexer": "ipython3",
   "version": "3.6.0"
  },
  "widgets": {
   "state": {
    "8a2047798af046e18368f8460c4b1fab": {
     "views": [
      {
       "cell_index": 2
      }
     ]
    },
    "f6c784b52ddb4ca0972f8cb8f3a7010f": {
     "views": [
      {
       "cell_index": 39
      }
     ]
    }
   },
   "version": "1.2.0"
  }
 },
 "nbformat": 4,
 "nbformat_minor": 2
}
